{
 "cells": [
  {
   "cell_type": "code",
   "execution_count": 1,
   "metadata": {
    "scrolled": true
   },
   "outputs": [
    {
     "name": "stderr",
     "output_type": "stream",
     "text": [
      "C:\\Users\\Admin\\Anaconda3\\lib\\site-packages\\h5py\\__init__.py:36: FutureWarning: Conversion of the second argument of issubdtype from `float` to `np.floating` is deprecated. In future, it will be treated as `np.float64 == np.dtype(float).type`.\n",
      "  from ._conv import register_converters as _register_converters\n"
     ]
    }
   ],
   "source": [
    "import matplotlib.pyplot as plt\n",
    "import numpy as np\n",
    "import tensorflow as tf\n",
    "from sklearn import datasets"
   ]
  },
  {
   "cell_type": "markdown",
   "metadata": {},
   "source": [
    "Start the grap session and load datasets"
   ]
  },
  {
   "cell_type": "code",
   "execution_count": 2,
   "metadata": {},
   "outputs": [],
   "source": [
    "sess=tf.Session()\n",
    "iris=datasets.load_iris()"
   ]
  },
  {
   "cell_type": "markdown",
   "metadata": {},
   "source": [
    "Classify data into features and labels"
   ]
  },
  {
   "cell_type": "code",
   "execution_count": 3,
   "metadata": {},
   "outputs": [],
   "source": [
    "x_vals=np.array([[x[0],x[3]] for x in iris.data])\n",
    "y_vals=np.array([1 if y==0 else -1 for y in iris.target])"
   ]
  },
  {
   "cell_type": "markdown",
   "metadata": {},
   "source": [
    "Split data into train set and test set"
   ]
  },
  {
   "cell_type": "code",
   "execution_count": 4,
   "metadata": {},
   "outputs": [],
   "source": [
    "train_indices=np.random.choice(len(x_vals),round(len(x_vals)*0.8),replace=False)\n",
    "test_indices=np.array(list(set(range(len(x_vals)))-set(train_indices)))\n",
    "x_vals_train=x_vals[train_indices]\n",
    "x_vals_test=x_vals[test_indices]\n",
    "y_vals_train=y_vals[train_indices]\n",
    "y_vals_test=y_vals[test_indices]"
   ]
  },
  {
   "cell_type": "code",
   "execution_count": 6,
   "metadata": {},
   "outputs": [],
   "source": [
    "batch_size=100\n",
    "x_data=tf.placeholder(shape=[None,2],dtype=tf.float32)\n",
    "y_target=tf.placeholder(shape=[None,1],dtype=tf.float32)\n",
    "A=tf.Variable(tf.random_normal(shape=[2,1]))\n",
    "b=tf.Variable(tf.random_normal(shape=[1,1]))"
   ]
  },
  {
   "cell_type": "code",
   "execution_count": 7,
   "metadata": {},
   "outputs": [],
   "source": [
    "model_output=tf.subtract(tf.matmul(x_data,A),b)"
   ]
  },
  {
   "cell_type": "markdown",
   "metadata": {},
   "source": [
    " Maximum margin loss"
   ]
  },
  {
   "cell_type": "code",
   "execution_count": 8,
   "metadata": {},
   "outputs": [],
   "source": [
    "l2_norm=tf.reduce_sum(tf.square(A))\n",
    "alpha=tf.constant([0.1])\n",
    "classification_term=tf.reduce_mean(tf.maximum(0.,tf.subtract(1.,tf.multiply(model_output,y_target))))\n",
    "loss=tf.add(tf.multiply(alpha,l2_norm),classification_term)"
   ]
  },
  {
   "cell_type": "markdown",
   "metadata": {},
   "source": [
    "Prediction and accuracy"
   ]
  },
  {
   "cell_type": "code",
   "execution_count": 9,
   "metadata": {},
   "outputs": [],
   "source": [
    "prediction=tf.sign(model_output)\n",
    "accuracy=tf.reduce_mean(tf.cast(tf.equal(prediction,y_target),tf.float32))\n",
    "residuals=prediction - y_target"
   ]
  },
  {
   "cell_type": "markdown",
   "metadata": {},
   "source": [
    "Creating interactive scalars and histograms in the tensorboard"
   ]
  },
  {
   "cell_type": "code",
   "execution_count": 10,
   "metadata": {},
   "outputs": [],
   "source": [
    "with tf.name_scope('Loss'):\n",
    "    tf.summary.histogram('Histogram_Errors',accuracy)\n",
    "    tf.summary.histogram('Histogram_Residuals',residuals)\n",
    "    Loss_summary_OP=tf.summary.scalar(\"loss\",loss[0])\n",
    "    \n",
    "summary_op=tf.summary.merge_all()"
   ]
  },
  {
   "cell_type": "markdown",
   "metadata": {},
   "source": [
    "Declare optimizer and intialize model variables"
   ]
  },
  {
   "cell_type": "code",
   "execution_count": 11,
   "metadata": {},
   "outputs": [],
   "source": [
    "my_opt=tf.train.GradientDescentOptimizer(0.01)\n",
    "train_step=my_opt.minimize(loss)\n",
    "init=tf.global_variables_initializer()\n",
    "sess.run(init)"
   ]
  },
  {
   "cell_type": "markdown",
   "metadata": {},
   "source": [
    "Running the session variables by feeding the train and test data"
   ]
  },
  {
   "cell_type": "code",
   "execution_count": 12,
   "metadata": {},
   "outputs": [
    {
     "name": "stdout",
     "output_type": "stream",
     "text": [
      "Step #500A=[[ 0.07040033]\n",
      " [-0.6381633 ]]b=[[0.49207088]]\n",
      "loss =[0.56114906]\n",
      "Train accuracy0.65853345\n",
      "Test accuracy0.61886656\n",
      "Step #1000A=[[ 0.10319219]\n",
      " [-1.0414014 ]]b=[[0.20967084]]\n",
      "loss =[0.47292185]\n",
      "Train accuracy0.7212751\n",
      "Test accuracy0.6960666\n",
      "Step #1500A=[[ 0.09232323]\n",
      " [-1.1963032 ]]b=[[-0.06722911]]\n",
      "loss =[0.35529202]\n",
      "Train accuracy0.8073945\n",
      "Test accuracy0.79359996\n",
      "Step #2000A=[[ 0.06792555]\n",
      " [-1.2539417 ]]b=[[-0.33212915]]\n",
      "loss =[0.42175314]\n",
      "Train accuracy0.8532292\n",
      "Test accuracy0.84519994\n",
      "Step #2500A=[[ 0.04880952]\n",
      " [-1.2854089 ]]b=[[-0.6014291]]\n",
      "loss =[0.39357853]\n",
      "Train accuracy0.8822167\n",
      "Test accuracy0.87615997\n",
      "Step #3000A=[[ 0.01618153]\n",
      " [-1.3011346 ]]b=[[-0.8579289]]\n",
      "loss =[0.37651277]\n",
      "Train accuracy0.901814\n",
      "Test accuracy0.8968\n",
      "Step #3500A=[[-0.03540204]\n",
      " [-1.3198229 ]]b=[[-1.1025271]]\n",
      "loss =[0.36075824]\n",
      "Train accuracy0.91584057\n",
      "Test accuracy0.91154283\n",
      "Step #4000A=[[-0.07018401]\n",
      " [-1.3282202 ]]b=[[-1.3379261]]\n",
      "loss =[0.37023336]\n",
      "Train accuracy0.9263605\n",
      "Test accuracy0.9226\n",
      "Step #4500A=[[-0.10481632]\n",
      " [-1.3315241 ]]b=[[-1.5612257]]\n",
      "loss =[0.34411585]\n",
      "Train accuracy0.93454266\n",
      "Test accuracy0.93119997\n",
      "Step #5000A=[[-0.13131201]\n",
      " [-1.3312308 ]]b=[[-1.7745246]]\n",
      "loss =[0.33048713]\n",
      "Train accuracy0.94108826\n",
      "Test accuracy0.93807995\n"
     ]
    }
   ],
   "source": [
    "loss_vec=[]\n",
    "train_accuracy=[]\n",
    "test_accuracy=[]\n",
    "\n",
    "for i in range(5000):\n",
    "    rand_index=np.random.choice(len(x_vals_train),size=batch_size)\n",
    "    rand_x=x_vals_train[rand_index]\n",
    "    rand_y=np.transpose([y_vals_train[rand_index]])    \n",
    "    _,train_loss,summary=sess.run([train_step,loss,summary_op],feed_dict={x_data:rand_x,y_target:rand_y})\n",
    "    test_loss,test_resids=sess.run([loss,residuals],feed_dict={x_data:x_vals_test,y_target:np.transpose([y_vals_test])})\n",
    "    loss_vec.append(train_loss)\n",
    "    train_acc_temp=sess.run(accuracy,feed_dict={x_data:x_vals_train,y_target:np.transpose([y_vals_train])})\n",
    "    train_accuracy.append(train_acc_temp)\n",
    "    test_acc_temp=sess.run(accuracy,feed_dict={x_data:x_vals_test,y_target:np.transpose([y_vals_test])})\n",
    "    test_accuracy.append(test_acc_temp)\n",
    "    if(i+1)%500==0:\n",
    "        print('Step #' + str(i+1)+'A='+str(sess.run(A))+'b='+str(sess.run(b)))\n",
    "        print('loss =' +str(train_loss) )\n",
    "        print('Train accuracy'+str(np.mean(train_accuracy)))\n",
    "        print('Test accuracy'+str(np.mean(test_accuracy)))\n",
    "log_writer=tf.summary.FileWriter('C:\\\\temp',sess.graph)\n",
    "log_writer.add_summary(summary,i)\n",
    "    \n",
    "   \n",
    "   \n",
    "    "
   ]
  },
  {
   "cell_type": "markdown",
   "metadata": {},
   "source": [
    "Extract coeffs , seperate x values"
   ]
  },
  {
   "cell_type": "code",
   "execution_count": 13,
   "metadata": {
    "scrolled": true
   },
   "outputs": [],
   "source": [
    "[[a1],[a2]]=sess.run(A)\n",
    "[[b]]=sess.run(b)\n",
    "slope=-a2/a1\n",
    "y_intercept=b/a1\n",
    "x1_vals=[d[1] for d in x_vals]\n",
    "best_fit=[]\n",
    "for i in x1_vals:\n",
    "    best_fit.append(slope*i+y_intercept)\n",
    "    setosa_x=[d[1] for i,d in enumerate(x_vals) if y_vals[i]==1]\n",
    "    setosa_y=[d[0] for i,d in enumerate(x_vals) if y_vals[i]==1]\n",
    "    not_setosa_x=[d[1] for i,d in enumerate(x_vals) if y_vals[i]==-1]\n",
    "    not_setosa_y=[d[0] for i,d in enumerate(x_vals) if y_vals[i]==-1]"
   ]
  },
  {
   "cell_type": "markdown",
   "metadata": {},
   "source": [
    "Visualize"
   ]
  },
  {
   "cell_type": "code",
   "execution_count": 19,
   "metadata": {},
   "outputs": [
    {
     "data": {
      "image/png": "[encoded data removed]",
      "text/plain": [
       "<Figure size 432x288 with 1 Axes>"
      ]
     },
     "metadata": {},
     "output_type": "display_data"
    }
   ],
   "source": [
    "plt.plot(setosa_x,setosa_y,'o', label='I. senosa')\n",
    "plt.plot(not_setosa_x,not_setosa_y,'x', label='Not. senosa')\n",
    "plt.plot(x1_vals,best_fit,'r-', label='Linear - Seperator', linewidth=3)\n",
    "plt.ylim([0,10])\n",
    "plt.legend(loc='lower right')\n",
    "plt.xlabel('Pedal width')\n",
    "plt.ylabel('Sepal length')\n",
    "plt.show()"
   ]
  },
  {
   "cell_type": "markdown",
   "metadata": {},
   "source": [
    "Trainning accuracy"
   ]
  },
  {
   "cell_type": "code",
   "execution_count": 22,
   "metadata": {},
   "outputs": [
    {
     "data": {
      "text/plain": [
       "[<matplotlib.lines.Line2D at 0x173f9d6cd30>]"
      ]
     },
     "execution_count": 22,
     "metadata": {},
     "output_type": "execute_result"
    },
    {
     "data": {
      "image/png": "[encoded data removed]",
      "text/plain": [
       "<Figure size 432x288 with 1 Axes>"
      ]
     },
     "metadata": {},
     "output_type": "display_data"
    }
   ],
   "source": [
    "plt.plot(train_accuracy,'m-', label='Trainning accuracy')"
   ]
  },
  {
   "cell_type": "markdown",
   "metadata": {},
   "source": [
    "Test accuracy"
   ]
  },
  {
   "cell_type": "code",
   "execution_count": 23,
   "metadata": {},
   "outputs": [
    {
     "data": {
      "text/plain": [
       "[<matplotlib.lines.Line2D at 0x173f9cecba8>]"
      ]
     },
     "execution_count": 23,
     "metadata": {},
     "output_type": "execute_result"
    },
    {
     "data": {
      "image/png": "[encoded data removed]",
      "text/plain": [
       "<Figure size 432x288 with 1 Axes>"
      ]
     },
     "metadata": {},
     "output_type": "display_data"
    }
   ],
   "source": [
    "plt.plot(train_accuracy,'p-', label='Test accuracy')"
   ]
  },
  {
   "cell_type": "code",
   "execution_count": null,
   "metadata": {},
   "outputs": [],
   "source": []
  }
 ],
 "metadata": {
  "kernelspec": {
   "display_name": "Python 3",
   "language": "python",
   "name": "python3"
  },
  "language_info": {
   "codemirror_mode": {
    "name": "ipython",
    "version": 3
   },
   "file_extension": ".py",
   "mimetype": "text/x-python",
   "name": "python",
   "nbconvert_exporter": "python",
   "pygments_lexer": "ipython3",
   "version": "3.6.5"
  }
 },
 "nbformat": 4,
 "nbformat_minor": 2
}
